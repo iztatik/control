{
 "cells": [
  {
   "cell_type": "markdown",
   "id": "9edb30d1-9426-4c56-9445-fca213520c20",
   "metadata": {},
   "source": [
    "# Underdamped second-order system"
   ]
  },
  {
   "cell_type": "markdown",
   "id": "c0239cf9-baae-4d24-9487-85930579ac8b",
   "metadata": {},
   "source": [
    "## Modules"
   ]
  },
  {
   "cell_type": "code",
   "execution_count": 8,
   "id": "4efc741c-bda8-4e7e-8a1d-246203304b0a",
   "metadata": {},
   "outputs": [],
   "source": [
    "import numpy as np\n",
    "import control as ct\n",
    "import control.matlab as ctm\n",
    "import matplotlib.pyplot as plt"
   ]
  },
  {
   "cell_type": "markdown",
   "id": "e707d480-e76d-477b-bfde-8fb7400b2171",
   "metadata": {},
   "source": [
    "## Underdamped second order system"
   ]
  },
  {
   "cell_type": "markdown",
   "id": "e0534277-cb07-4aa1-9bfb-2afc3224af75",
   "metadata": {},
   "source": [
    "## Transfer function"
   ]
  },
  {
   "cell_type": "code",
   "execution_count": 2,
   "id": "ec681eb3-9416-4c37-9484-e72ba917cf61",
   "metadata": {},
   "outputs": [
    {
     "name": "stdout",
     "output_type": "stream",
     "text": [
      "G = \n",
      "      25\n",
      "--------------\n",
      "s^2 + 6 s + 25\n",
      "\n"
     ]
    }
   ],
   "source": [
    "num = [25]\n",
    "den =  [1, 6, 25]\n",
    "\n",
    "G = ct.tf(num, den)\n",
    "print('G =', G)"
   ]
  },
  {
   "cell_type": "markdown",
   "id": "ca6fc57a-a142-4930-92e3-0c2568920ebe",
   "metadata": {},
   "source": [
    "## Simple step response"
   ]
  },
  {
   "cell_type": "code",
   "execution_count": 7,
   "id": "b33cf199-6a93-4022-9458-e153a53677b2",
   "metadata": {},
   "outputs": [
    {
     "data": {
      "image/png": "[encoded data removed]",
      "text/plain": [
       "<Figure size 432x288 with 1 Axes>"
      ]
     },
     "metadata": {
      "needs_background": "light"
     },
     "output_type": "display_data"
    }
   ],
   "source": [
    "t, c1 = ct.step_response(G)\n",
    "plt.plot(t, c1)\n",
    "plt.grid()"
   ]
  },
  {
   "cell_type": "markdown",
   "id": "c72b6ac2-37f1-46c2-83a0-29f097253dc9",
   "metadata": {},
   "source": [
    "## Step info"
   ]
  },
  {
   "cell_type": "code",
   "execution_count": 9,
   "id": "69aa7d09-a023-4785-984e-a347dc37ceb8",
   "metadata": {},
   "outputs": [
    {
     "data": {
      "text/plain": [
       "{'RiseTime': 0.3721349645242902,\n",
       " 'SettlingTime': 1.2094386347039432,\n",
       " 'SettlingMin': 0.9255995045708346,\n",
       " 'SettlingMax': 1.0947461925386435,\n",
       " 'Overshoot': 9.474619253864347,\n",
       " 'Undershoot': 0,\n",
       " 'Peak': 1.0947461925386435,\n",
       " 'PeakTime': 0.7907867996141167,\n",
       " 'SteadyStateValue': 1.0}"
      ]
     },
     "execution_count": 9,
     "metadata": {},
     "output_type": "execute_result"
    }
   ],
   "source": [
    "ctm.stepinfo(G)"
   ]
  },
  {
   "cell_type": "markdown",
   "id": "e4b3e16f-ab62-455f-a4a6-22e0b8686d1a",
   "metadata": {},
   "source": [
    "## Damping and frequency"
   ]
  },
  {
   "cell_type": "code",
   "execution_count": 10,
   "id": "f82f6dc1-35e1-4817-88ad-0886aba889a4",
   "metadata": {},
   "outputs": [
    {
     "name": "stdout",
     "output_type": "stream",
     "text": [
      "_____Eigenvalue______ Damping___ Frequency_\n",
      "        -3        +4j        0.6          5\n",
      "        -3        -4j        0.6          5\n"
     ]
    },
    {
     "data": {
      "text/plain": [
       "(array([5., 5.]), array([0.6, 0.6]), array([-3.+4.j, -3.-4.j]))"
      ]
     },
     "execution_count": 10,
     "metadata": {},
     "output_type": "execute_result"
    }
   ],
   "source": [
    "ct.damp(G)"
   ]
  },
  {
   "cell_type": "markdown",
   "id": "6a34429c-859e-482b-a680-1d5c01ef7d47",
   "metadata": {},
   "source": [
    "## Poles and zeros map"
   ]
  },
  {
   "cell_type": "code",
   "execution_count": 11,
   "id": "83d20eb8-318e-4139-9829-7d9cb93cf51e",
   "metadata": {},
   "outputs": [
    {
     "data": {
      "text/plain": [
       "(array([-3.+4.j, -3.-4.j]), array([], dtype=float64))"
      ]
     },
     "execution_count": 11,
     "metadata": {},
     "output_type": "execute_result"
    },
    {
     "data": {
      "image/png": "[encoded data removed]",
      "text/plain": [
       "<Figure size 432x288 with 1 Axes>"
      ]
     },
     "metadata": {
      "needs_background": "light"
     },
     "output_type": "display_data"
    }
   ],
   "source": [
    "ct.pzmap(G)"
   ]
  },
  {
   "cell_type": "code",
   "execution_count": null,
   "id": "1ceada00-38f1-4267-9111-128064ecc94d",
   "metadata": {},
   "outputs": [],
   "source": []
  }
 ],
 "metadata": {
  "kernelspec": {
   "display_name": "Python 3 (ipykernel)",
   "language": "python",
   "name": "python3"
  },
  "language_info": {
   "codemirror_mode": {
    "name": "ipython",
    "version": 3
   },
   "file_extension": ".py",
   "mimetype": "text/x-python",
   "name": "python",
   "nbconvert_exporter": "python",
   "pygments_lexer": "ipython3",
   "version": "3.9.7"
  }
 },
 "nbformat": 4,
 "nbformat_minor": 5
}
