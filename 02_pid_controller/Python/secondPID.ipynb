{
 "cells": [
  {
   "cell_type": "markdown",
   "metadata": {},
   "source": [
    "# Second order PID"
   ]
  },
  {
   "cell_type": "code",
   "execution_count": 1,
   "metadata": {},
   "outputs": [],
   "source": [
    "import numpy as np\n",
    "import sympy as sym\n",
    "import control as ct\n",
    "from control.matlab import *\n",
    "import matplotlib.pyplot as plt\n",
    "\n",
    "sym.init_printing()"
   ]
  },
  {
   "cell_type": "code",
   "execution_count": 56,
   "metadata": {},
   "outputs": [],
   "source": [
    "z, Wn, Kp, Ti, Td , B, a0, a1, b0= sym.symbols('zeta omega_n K_p T_i T_d beta a_0 a_1 b_0')"
   ]
  },
  {
   "cell_type": "code",
   "execution_count": 57,
   "metadata": {},
   "outputs": [
    {
     "data": {
      "image/png": "[encoded data removed]",
      "text/latex": [
       "$\\displaystyle \\left\\{ T_{d} : \\frac{- a_{1} + \\beta \\omega_{n} \\zeta + 2 \\omega_{n} \\zeta}{K_{p} b_{0}}, \\  T_{i} : \\frac{K_{p} b_{0}}{\\beta \\omega_{n}^{3} \\zeta}\\right\\}$"
      ],
      "text/plain": [
       "⎧     -a₁ + β⋅ωₙ⋅ζ + 2⋅ωₙ⋅ζ       Kₚ⋅b₀ ⎫\n",
       "⎪T_d: ─────────────────────, Tᵢ: ───────⎪\n",
       "⎨             Kₚ⋅b₀                  3  ⎬\n",
       "⎪                                β⋅ωₙ ⋅ζ⎪\n",
       "⎩                                       ⎭"
      ]
     },
     "execution_count": 57,
     "metadata": {},
     "output_type": "execute_result"
    }
   ],
   "source": [
    "eq1 = sym.Eq((2*B*z**2 + 1)*Wn**2, a0+Kp*b0);\n",
    "eq2 = sym.Eq(B*z*Wn**3 , (Kp*b0)/Ti);\n",
    "eq3 = sym.Eq((B + 2)*z*Wn, Kp*Td*b0 + a1)\n",
    "sym.solve((eq1, eq2, eq3),(Ti, Td))"
   ]
  },
  {
   "cell_type": "code",
   "execution_count": 2,
   "metadata": {},
   "outputs": [
    {
     "name": "stdout",
     "output_type": "stream",
     "text": [
      "Process:\n",
      "\n",
      "        2.987e+04\n",
      "-------------------------\n",
      "s^2 + 414.7 s + 3.361e+04\n",
      "\n",
      "Step response:\n"
     ]
    },
    {
     "data": {
      "image/png": "[encoded data removed]",
      "text/plain": [
       "<Figure size 432x288 with 1 Axes>"
      ]
     },
     "metadata": {
      "needs_background": "light"
     },
     "output_type": "display_data"
    },
    {
     "name": "stdout",
     "output_type": "stream",
     "text": [
      "Step info:\n"
     ]
    },
    {
     "data": {
      "text/plain": [
       "{'RiseTime': 0.0217480341475997,\n",
       " 'SettlingTime': 0.039871395937266116,\n",
       " 'SettlingMin': 0.8000456798025747,\n",
       " 'SettlingMax': 0.8873280912347106,\n",
       " 'Overshoot': 0,\n",
       " 'Undershoot': 0,\n",
       " 'Peak': 0.8873280912347106,\n",
       " 'PeakTime': 0.06252559817434913,\n",
       " 'SteadyStateValue': 0.8887235941684023}"
      ]
     },
     "execution_count": 2,
     "metadata": {},
     "output_type": "execute_result"
    }
   ],
   "source": [
    "# System\n",
    "num = [29870]\n",
    "den = [1, 414.7, 33610]\n",
    "G = ct.tf(num,den)\n",
    "print('Process:')\n",
    "print(G)\n",
    "\n",
    "t, out = ct.step_response(G) \n",
    "print('Step response:')\n",
    "plt.plot(t, out)\n",
    "plt.grid()\n",
    "plt.show()\n",
    "\n",
    "print('Step info:')\n",
    "stepinfo(G)"
   ]
  },
  {
   "cell_type": "code",
   "execution_count": 3,
   "metadata": {},
   "outputs": [
    {
     "name": "stdout",
     "output_type": "stream",
     "text": [
      "_____Eigenvalue______ Damping___ Frequency_\n",
      "    -304.2                     1      304.2\n",
      "    -110.5                     1      110.5\n"
     ]
    }
   ],
   "source": [
    "# Damping and natural frequency\n",
    "ct.damp(G);"
   ]
  },
  {
   "cell_type": "code",
   "execution_count": 4,
   "metadata": {},
   "outputs": [
    {
     "name": "stdout",
     "output_type": "stream",
     "text": [
      "Poles:  [-304.22116444 -110.47883556]\n"
     ]
    },
    {
     "data": {
      "image/png": "[encoded data removed]",
      "text/plain": [
       "<Figure size 432x288 with 1 Axes>"
      ]
     },
     "metadata": {
      "needs_background": "light"
     },
     "output_type": "display_data"
    }
   ],
   "source": [
    "# Root locust\n",
    "print('Poles: ', ct.pole(G))\n",
    "ct.pzmap(G);"
   ]
  },
  {
   "cell_type": "code",
   "execution_count": 5,
   "metadata": {},
   "outputs": [],
   "source": [
    "# Data\n",
    "tss = 0.03\n",
    "Mp = 25\n",
    "B = 10\n",
    "\n",
    "b0 = float(num[0])\n",
    "a1 = float(den[1])\n",
    "a0 = float(den[2])"
   ]
  },
  {
   "cell_type": "code",
   "execution_count": 6,
   "metadata": {},
   "outputs": [
    {
     "name": "stdout",
     "output_type": "stream",
     "text": [
      "z=  0.40371275194342066\n",
      "Wn=  247.7008702811913\n"
     ]
    }
   ],
   "source": [
    "# Requirements\n",
    "z = np.sqrt(np.square(np.log(Mp/100))/(np.pi**2 + np.square(np.log(Mp/100)))) \n",
    "Wn = 3/(z*ts)\n",
    "\n",
    "print('z= ', z)\n",
    "print('Wn= ', Wn)"
   ]
  },
  {
   "cell_type": "code",
   "execution_count": 7,
   "metadata": {},
   "outputs": [
    {
     "name": "stdout",
     "output_type": "stream",
     "text": [
      "delta = s² + 200.0s + 61355.7211\n",
      "s = -100.0 + j226.6\n"
     ]
    }
   ],
   "source": [
    "# Desired characteristic equation and poles\n",
    "print('delta = s² + {a}s + {b:1.4f}'.format(a=2*z*Wn,b=Wn**2))\n",
    "print('s = {a} + j{b:1.4}'.format(a=-z*Wn, b=Wn*np.sqrt(1-z**2)))"
   ]
  },
  {
   "cell_type": "code",
   "execution_count": 8,
   "metadata": {},
   "outputs": [
    {
     "name": "stdout",
     "output_type": "stream",
     "text": [
      "Kp: 7.624563814464665, Ti: 0.0037118905444139035, Td: 0.0034481438161639523\n",
      "PID-control system:\n",
      "\n",
      "9.759e-05 s^2 + 0.0283 s + 7.625\n",
      "--------------------------------\n",
      "           0.003712 s\n",
      "\n"
     ]
    }
   ],
   "source": [
    "# PID controller\n",
    "Kp = ((2*B*z**2 + 1)*Wn**2 - a0)/b0\n",
    "Ti = (Kp*b0)/(B*z*Wn**3)\n",
    "Td = (((B + 2)*z*Wn) - a1)/(Kp*b0)\n",
    "\n",
    "print(f'Kp: {Kp}, Ti: {Ti}, Td: {Td}')\n",
    "\n",
    "Gc = ct.tf([Kp*Td*Ti, Kp*Ti, Kp],[Ti, 0])\n",
    "print('PID-control system:')\n",
    "print(Gc)"
   ]
  },
  {
   "cell_type": "code",
   "execution_count": 9,
   "metadata": {},
   "outputs": [
    {
     "name": "stdout",
     "output_type": "stream",
     "text": [
      "Step response:\n"
     ]
    },
    {
     "data": {
      "image/png": "[encoded data removed]",
      "text/plain": [
       "<Figure size 432x288 with 1 Axes>"
      ]
     },
     "metadata": {
      "needs_background": "light"
     },
     "output_type": "display_data"
    },
    {
     "name": "stdout",
     "output_type": "stream",
     "text": [
      "Step info:\n"
     ]
    },
    {
     "data": {
      "text/plain": [
       "{'RiseTime': 0.0031775674283317803,\n",
       " 'SettlingTime': 0.027216555799189596,\n",
       " 'SettlingMin': 0.9097901730555858,\n",
       " 'SettlingMax': 1.1149079307048033,\n",
       " 'Overshoot': 11.490793070480333,\n",
       " 'Undershoot': 0,\n",
       " 'Peak': 1.1149079307048033,\n",
       " 'PeakTime': 0.009670857390574984,\n",
       " 'SteadyStateValue': 1.0}"
      ]
     },
     "execution_count": 9,
     "metadata": {},
     "output_type": "execute_result"
    }
   ],
   "source": [
    "# PID response\n",
    "sys = ct.feedback(Gc*G)\n",
    "t, out = ct.step_response(sys)\n",
    "print('Step response:')\n",
    "plt.plot(t,out)\n",
    "plt.grid()\n",
    "plt.show()\n",
    "\n",
    "print('Step info:')\n",
    "stepinfo(sys)"
   ]
  },
  {
   "cell_type": "code",
   "execution_count": 145,
   "metadata": {},
   "outputs": [
    {
     "name": "stdout",
     "output_type": "stream",
     "text": [
      "Poles:  [-1000.  +0.j          -100.+226.61800709j  -100.-226.61800709j]\n"
     ]
    },
    {
     "data": {
      "image/png": "[encoded data removed]",
      "text/plain": [
       "<Figure size 432x288 with 1 Axes>"
      ]
     },
     "metadata": {
      "needs_background": "light"
     },
     "output_type": "display_data"
    }
   ],
   "source": [
    "ct.pzmap(sys);\n",
    "print('Poles: ',ct.pole(sys))"
   ]
  },
  {
   "cell_type": "code",
   "execution_count": null,
   "metadata": {},
   "outputs": [],
   "source": [
    "Gc = ct.tf([Kp*Td*Ti, Kp*Ti, Kp],[Ti, 0])\n",
    "# PID response\n",
    "sys = ct.feedback(Gc*G)\n",
    "t, out = ct.step_response(sys)\n",
    "print('Step response:')\n",
    "plt.plot(t,out)\n",
    "plt.grid()\n",
    "plt.show()"
   ]
  },
  {
   "cell_type": "code",
   "execution_count": 10,
   "metadata": {},
   "outputs": [
    {
     "data": {
      "text/latex": [
       "$$\\frac{4 s + 6}{s^2 + 2 s}$$"
      ],
      "text/plain": [
       "TransferFunction(array([4, 6]), array([1, 2, 0]))"
      ]
     },
     "execution_count": 10,
     "metadata": {},
     "output_type": "execute_result"
    }
   ],
   "source": [
    "tf1 = ct.tf([1],[1,2])\n",
    "tf2 = ct.tf([3],[1,0])\n",
    "tf1+tf2"
   ]
  },
  {
   "cell_type": "code",
   "execution_count": null,
   "metadata": {},
   "outputs": [],
   "source": []
  }
 ],
 "metadata": {
  "kernelspec": {
   "display_name": "Python 3 (ipykernel)",
   "language": "python",
   "name": "python3"
  },
  "language_info": {
   "codemirror_mode": {
    "name": "ipython",
    "version": 3
   },
   "file_extension": ".py",
   "mimetype": "text/x-python",
   "name": "python",
   "nbconvert_exporter": "python",
   "pygments_lexer": "ipython3",
   "version": "3.9.7"
  }
 },
 "nbformat": 4,
 "nbformat_minor": 4
}
