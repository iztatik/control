{
 "cells": [
  {
   "cell_type": "markdown",
   "metadata": {},
   "source": [
    "# Digital PID"
   ]
  },
  {
   "cell_type": "code",
   "execution_count": 1,
   "metadata": {},
   "outputs": [],
   "source": [
    "import numpy as np\n",
    "import control as ct\n",
    "import matplotlib.pyplot as plt"
   ]
  },
  {
   "cell_type": "code",
   "execution_count": 2,
   "metadata": {},
   "outputs": [],
   "source": [
    "# Sample time\n",
    "Ts = 0.002\n",
    "sTime = 0.1\n",
    "t = np.arange(0, sTime, Ts)"
   ]
  },
  {
   "cell_type": "code",
   "execution_count": 3,
   "metadata": {},
   "outputs": [
    {
     "name": "stdout",
     "output_type": "stream",
     "text": [
      "Process:\n",
      "\n",
      "        2.987e+04\n",
      "-------------------------\n",
      "s^2 + 414.7 s + 3.361e+04\n",
      "\n"
     ]
    }
   ],
   "source": [
    "# System\n",
    "dt = Ts\n",
    "num = [29870]\n",
    "den = [1, 414.7, 33610]\n",
    "G = ct.tf(num,den)\n",
    "print('Process:')\n",
    "print(G)\n",
    "Gs = ct.sample_system(G, dt)\n"
   ]
  },
  {
   "cell_type": "code",
   "execution_count": 4,
   "metadata": {},
   "outputs": [
    {
     "name": "stdout",
     "output_type": "stream",
     "text": [
      "Step response:\n"
     ]
    },
    {
     "data": {
      "image/png": "[encoded data removed]",
      "text/plain": [
       "<Figure size 432x288 with 1 Axes>"
      ]
     },
     "metadata": {
      "needs_background": "light"
     },
     "output_type": "display_data"
    }
   ],
   "source": [
    "t1, C1 = ct.step_response(G,sTime) \n",
    "\n",
    "print('Step response:')\n",
    "plt.plot(t1, C1)\n",
    "plt.grid()\n",
    "plt.show()"
   ]
  },
  {
   "cell_type": "code",
   "execution_count": 5,
   "metadata": {},
   "outputs": [
    {
     "name": "stdout",
     "output_type": "stream",
     "text": [
      "Kp: 3.84808815, Ti: 0.00711849, Td: 0\n",
      "b0: 4.388664613547747, b1: -3.307511686452253, b2: 0.0\n",
      "\n",
      "4.389 z^2 - 3.308 z\n",
      "-------------------\n",
      "      z^2 - z\n",
      "\n",
      "dt = 0.002\n",
      "\n"
     ]
    }
   ],
   "source": [
    "# PID controller\n",
    "Kp = 3.84808815\n",
    "Ti = 0.00711849\n",
    "Td = 0\n",
    "print(f'Kp: {Kp}, Ti: {Ti}, Td: {Td}')\n",
    "\n",
    "# Digital PID\n",
    "b0 = Kp*(1 + (Ts/(2*Ti)) + (Td/Ts))\n",
    "b1 = -Kp*(1 - (Ts/(2*Ti)) + (2*Td/Ts))\n",
    "b2 = Kp*Td/Ts\n",
    "print(f'b0: {b0}, b1: {b1}, b2: {b2}')\n",
    "\n",
    "num = [b0, b1, b2]\n",
    "den = [1, -1, 0]\n",
    "Gc = ct.tf(num, den, Ts)\n",
    "\n",
    "print(Gc)"
   ]
  },
  {
   "cell_type": "code",
   "execution_count": 6,
   "metadata": {},
   "outputs": [
    {
     "name": "stdout",
     "output_type": "stream",
     "text": [
      "Step response:\n"
     ]
    },
    {
     "data": {
      "image/png": "[encoded data removed]",
      "text/plain": [
       "<Figure size 432x288 with 1 Axes>"
      ]
     },
     "metadata": {
      "needs_background": "light"
     },
     "output_type": "display_data"
    }
   ],
   "source": [
    "# PID response\n",
    "sys = ct.feedback(Gc*Gs)\n",
    "t2, C2 = ct.step_response(sys, sTime)\n",
    "\n",
    "print('Step response:')\n",
    "plt.plot(t2, C2,'.')\n",
    "plt.step(t2,C2, where = \"post\")\n",
    "plt.grid()\n",
    "plt.show()"
   ]
  }
 ],
 "metadata": {
  "kernelspec": {
   "display_name": "Python 3 (ipykernel)",
   "language": "python",
   "name": "python3"
  },
  "language_info": {
   "codemirror_mode": {
    "name": "ipython",
    "version": 3
   },
   "file_extension": ".py",
   "mimetype": "text/x-python",
   "name": "python",
   "nbconvert_exporter": "python",
   "pygments_lexer": "ipython3",
   "version": "3.9.7"
  }
 },
 "nbformat": 4,
 "nbformat_minor": 4
}
