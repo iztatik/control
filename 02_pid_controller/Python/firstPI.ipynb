{
 "cells": [
  {
   "cell_type": "markdown",
   "metadata": {},
   "source": [
    "# First order PI"
   ]
  },
  {
   "cell_type": "code",
   "execution_count": 1,
   "metadata": {},
   "outputs": [],
   "source": [
    "import numpy as np\n",
    "import sympy as sym\n",
    "import matplotlib.pyplot as plt\n",
    "\n",
    "sym.init_printing()"
   ]
  },
  {
   "cell_type": "code",
   "execution_count": 2,
   "metadata": {},
   "outputs": [],
   "source": [
    "z, Wn, Kg, Kp, tau, Ti = sym.symbols('zeta omega_n K_G K_p tau T_i')"
   ]
  },
  {
   "cell_type": "code",
   "execution_count": 3,
   "metadata": {},
   "outputs": [
    {
     "data": {
      "image/png": "[encoded data removed]",
      "text/latex": [
       "$\\displaystyle \\left\\{ K_{p} : \\frac{2 \\omega_{n} \\tau \\zeta - 1}{K_{G}}, \\  T_{i} : \\frac{2 \\zeta}{\\omega_{n}} - \\frac{1}{\\omega_{n}^{2} \\tau}\\right\\}$"
      ],
      "text/plain": [
       "⎧    2⋅ωₙ⋅τ⋅ζ - 1      2⋅ζ     1  ⎫\n",
       "⎪Kₚ: ────────────, Tᵢ: ─── - ─────⎪\n",
       "⎨        K_G            ωₙ     2  ⎬\n",
       "⎪                            ωₙ ⋅τ⎪\n",
       "⎩                                 ⎭"
      ]
     },
     "execution_count": 3,
     "metadata": {},
     "output_type": "execute_result"
    }
   ],
   "source": [
    "eq1 = sym.Eq(2*z*Wn, (1+Kg*Kp)/tau);\n",
    "eq2 = sym.Eq(Wn**2 , (Kg*Kp)/(tau*Ti));\n",
    "sym.solve((eq1, eq2),(Kp,Ti))"
   ]
  },
  {
   "cell_type": "markdown",
   "metadata": {},
   "source": [
    "## Example"
   ]
  },
  {
   "cell_type": "code",
   "execution_count": 4,
   "metadata": {},
   "outputs": [],
   "source": [
    "import control as ct\n",
    "from control.matlab import *\n",
    "import numpy as np"
   ]
  },
  {
   "cell_type": "code",
   "execution_count": 5,
   "metadata": {},
   "outputs": [
    {
     "name": "stdout",
     "output_type": "stream",
     "text": [
      "Process: \n",
      "\n",
      "    1\n",
      "---------\n",
      "s + 0.375\n",
      "\n",
      "Step response:\n"
     ]
    },
    {
     "data": {
      "image/png": "[encoded data removed]",
      "text/plain": [
       "<Figure size 432x288 with 1 Axes>"
      ]
     },
     "metadata": {
      "needs_background": "light"
     },
     "output_type": "display_data"
    },
    {
     "name": "stdout",
     "output_type": "stream",
     "text": [
      "Step info: \n"
     ]
    },
    {
     "data": {
      "text/plain": [
       "{'RiseTime': 5.954159432388643,\n",
       " 'SettlingTime': 10.60584648894227,\n",
       " 'SettlingMin': 2.4179724408311363,\n",
       " 'SettlingMax': 2.663999999999991,\n",
       " 'Overshoot': 0,\n",
       " 'Undershoot': 0,\n",
       " 'Peak': 2.663999999999991,\n",
       " 'PeakTime': 18.420680743952364,\n",
       " 'SteadyStateValue': 2.6666666666666665}"
      ]
     },
     "execution_count": 5,
     "metadata": {},
     "output_type": "execute_result"
    }
   ],
   "source": [
    "# System\n",
    "num = [1]\n",
    "den = [1, 0.375]\n",
    "G = ct.tf(num,den)\n",
    "print('Process: ')\n",
    "print(G)\n",
    "\n",
    "t, out = ct.step_response(G) \n",
    "print('Step response:')\n",
    "plt.plot(t, out)\n",
    "plt.grid()\n",
    "plt.show()\n",
    "\n",
    "print('Step info: ')\n",
    "stepinfo(G)"
   ]
  },
  {
   "cell_type": "code",
   "execution_count": 6,
   "metadata": {},
   "outputs": [
    {
     "data": {
      "image/png": "[encoded data removed]",
      "text/plain": [
       "<Figure size 432x288 with 1 Axes>"
      ]
     },
     "metadata": {
      "needs_background": "light"
     },
     "output_type": "display_data"
    }
   ],
   "source": [
    "# Root locust\n",
    "ct.pzmap(G);"
   ]
  },
  {
   "cell_type": "code",
   "execution_count": 7,
   "metadata": {},
   "outputs": [],
   "source": [
    "# Data\n",
    "ts = 8\n",
    "Mp = 15"
   ]
  },
  {
   "cell_type": "code",
   "execution_count": 8,
   "metadata": {},
   "outputs": [
    {
     "name": "stdout",
     "output_type": "stream",
     "text": [
      "z=  0.5169308662051555\n",
      "Wn=  0.9672473297455677\n"
     ]
    }
   ],
   "source": [
    "# Requirements\n",
    "z = np.sqrt(np.square(np.log(Mp/100))/(np.pi**2 + np.square(np.log(Mp/100)))) \n",
    "Wn = 4/(z*ts)\n",
    "tau = 1/den[1]\n",
    "Kg = num[0]/den[1]\n",
    "\n",
    "print('z= ', z)\n",
    "print('Wn= ', Wn)"
   ]
  },
  {
   "cell_type": "code",
   "execution_count": 9,
   "metadata": {},
   "outputs": [
    {
     "name": "stdout",
     "output_type": "stream",
     "text": [
      "delta = s² + 1.0s + 0.9356\n",
      "s = -0.5 + j0.828\n"
     ]
    }
   ],
   "source": [
    "# Desired characteristic equation and poles\n",
    "print('delta = s² + {a}s + {b:1.4f}'.format(a=2*z*Wn,b=Wn**2))\n",
    "print('s = {a} + j{b:1.4}'.format(a=-z*Wn, b=Wn*np.sqrt(1-z**2)))"
   ]
  },
  {
   "cell_type": "code",
   "execution_count": 10,
   "metadata": {},
   "outputs": [
    {
     "name": "stdout",
     "output_type": "stream",
     "text": [
      "\n",
      "0.4175 s + 0.625\n",
      "----------------\n",
      "    0.668 s\n",
      "\n"
     ]
    }
   ],
   "source": [
    "# PI controller\n",
    "Kp = (2*z*Wn*tau-1)/Kg\n",
    "Ti = (Kp*Kg)/(tau*Wn**2)\n",
    "\n",
    "Gc = ct.tf([Kp*Ti, Kp],[Ti, 0])\n",
    "print(Gc)"
   ]
  },
  {
   "cell_type": "code",
   "execution_count": 11,
   "metadata": {},
   "outputs": [
    {
     "data": {
      "image/png": "[encoded data removed]",
      "text/plain": [
       "<Figure size 432x288 with 1 Axes>"
      ]
     },
     "metadata": {
      "needs_background": "light"
     },
     "output_type": "display_data"
    },
    {
     "name": "stdout",
     "output_type": "stream",
     "text": [
      "Step info: \n"
     ]
    },
    {
     "data": {
      "text/plain": [
       "{'RiseTime': 1.2559555052694795,\n",
       " 'SettlingTime': 7.814834255010095,\n",
       " 'SettlingMin': 0.9298750106558097,\n",
       " 'SettlingMax': 1.197286847173987,\n",
       " 'Overshoot': 19.728684717398703,\n",
       " 'Undershoot': 0,\n",
       " 'Peak': 1.197286847173987,\n",
       " 'PeakTime': 2.9305628456287858,\n",
       " 'SteadyStateValue': 1.0}"
      ]
     },
     "execution_count": 11,
     "metadata": {},
     "output_type": "execute_result"
    }
   ],
   "source": [
    "# PI response\n",
    "sys = ct.feedback(Gc*G)\n",
    "t, out = ct.step_response(sys)\n",
    "plt.plot(t,out)\n",
    "plt.grid()\n",
    "plt.show()\n",
    "\n",
    "print('Step info: ')\n",
    "stepinfo(sys)"
   ]
  },
  {
   "cell_type": "code",
   "execution_count": 12,
   "metadata": {},
   "outputs": [
    {
     "name": "stdout",
     "output_type": "stream",
     "text": [
      "Poles:  [-0.5+0.82798997j -0.5-0.82798997j]\n"
     ]
    },
    {
     "data": {
      "image/png": "[encoded data removed]",
      "text/plain": [
       "<Figure size 432x288 with 1 Axes>"
      ]
     },
     "metadata": {
      "needs_background": "light"
     },
     "output_type": "display_data"
    }
   ],
   "source": [
    "ct.pzmap(sys);\n",
    "print('Poles: ',ct.pole(sys))"
   ]
  },
  {
   "cell_type": "code",
   "execution_count": null,
   "metadata": {},
   "outputs": [],
   "source": []
  }
 ],
 "metadata": {
  "kernelspec": {
   "display_name": "Python 3 (ipykernel)",
   "language": "python",
   "name": "python3"
  },
  "language_info": {
   "codemirror_mode": {
    "name": "ipython",
    "version": 3
   },
   "file_extension": ".py",
   "mimetype": "text/x-python",
   "name": "python",
   "nbconvert_exporter": "python",
   "pygments_lexer": "ipython3",
   "version": "3.9.7"
  }
 },
 "nbformat": 4,
 "nbformat_minor": 4
}
