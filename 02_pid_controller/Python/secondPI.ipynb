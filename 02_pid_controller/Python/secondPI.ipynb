{
 "cells": [
  {
   "cell_type": "markdown",
   "metadata": {},
   "source": [
    "# Second order PI"
   ]
  },
  {
   "cell_type": "code",
   "execution_count": 1,
   "metadata": {},
   "outputs": [],
   "source": [
    "import numpy as np\n",
    "import sympy as sym\n",
    "import matplotlib.pyplot as plt\n",
    "from control.matlab import *\n",
    "\n",
    "sym.init_printing()"
   ]
  },
  {
   "cell_type": "code",
   "execution_count": 2,
   "metadata": {},
   "outputs": [],
   "source": [
    "z, Wn, Kg, Kp, tau, Ti = sym.symbols('zeta omega_n K_G K_p tau T_i')"
   ]
  },
  {
   "cell_type": "code",
   "execution_count": 3,
   "metadata": {},
   "outputs": [
    {
     "data": {
      "image/png": "[encoded data removed]",
      "text/latex": [
       "$\\displaystyle \\left\\{ K_{p} : \\frac{2 \\omega_{n} \\tau \\zeta - 1}{K_{G}}, \\  T_{i} : \\frac{2 \\zeta}{\\omega_{n}} - \\frac{1}{\\omega_{n}^{2} \\tau}\\right\\}$"
      ],
      "text/plain": [
       "⎧    2⋅ωₙ⋅τ⋅ζ - 1      2⋅ζ     1  ⎫\n",
       "⎪Kₚ: ────────────, Tᵢ: ─── - ─────⎪\n",
       "⎨        K_G            ωₙ     2  ⎬\n",
       "⎪                            ωₙ ⋅τ⎪\n",
       "⎩                                 ⎭"
      ]
     },
     "execution_count": 3,
     "metadata": {},
     "output_type": "execute_result"
    }
   ],
   "source": [
    "eq1 = sym.Eq(2*z*Wn, (1+Kg*Kp)/tau);\n",
    "eq2 = sym.Eq(Wn**2 , (Kg*Kp)/(tau*Ti));\n",
    "sym.solve((eq1, eq2),(Kp,Ti))"
   ]
  },
  {
   "cell_type": "markdown",
   "metadata": {},
   "source": [
    "## Example"
   ]
  },
  {
   "cell_type": "code",
   "execution_count": 4,
   "metadata": {},
   "outputs": [],
   "source": [
    "import control as ct\n",
    "import numpy as np"
   ]
  },
  {
   "cell_type": "code",
   "execution_count": 5,
   "metadata": {},
   "outputs": [
    {
     "name": "stdout",
     "output_type": "stream",
     "text": [
      "Process:\n",
      "\n",
      "        2.987e+04\n",
      "-------------------------\n",
      "s^2 + 414.7 s + 3.361e+04\n",
      "\n",
      "Step response:\n"
     ]
    },
    {
     "data": {
      "image/png": "[encoded data removed]",
      "text/plain": [
       "<Figure size 432x288 with 1 Axes>"
      ]
     },
     "metadata": {
      "needs_background": "light"
     },
     "output_type": "display_data"
    },
    {
     "name": "stdout",
     "output_type": "stream",
     "text": [
      "Step info:\n"
     ]
    },
    {
     "data": {
      "text/plain": [
       "{'RiseTime': 0.0217480341475997,\n",
       " 'SettlingTime': 0.039871395937266116,\n",
       " 'SettlingMin': 0.8000456798025747,\n",
       " 'SettlingMax': 0.8873280912347106,\n",
       " 'Overshoot': 0,\n",
       " 'Undershoot': 0,\n",
       " 'Peak': 0.8873280912347106,\n",
       " 'PeakTime': 0.06252559817434913,\n",
       " 'SteadyStateValue': 0.8887235941684023}"
      ]
     },
     "execution_count": 5,
     "metadata": {},
     "output_type": "execute_result"
    }
   ],
   "source": [
    "# System\n",
    "num = [29870]\n",
    "den = [1, 414.7, 33610]\n",
    "G = ct.tf(num,den)\n",
    "print('Process:')\n",
    "print(G)\n",
    "\n",
    "t, out = ct.step_response(G) \n",
    "print('Step response:')\n",
    "plt.plot(t, out)\n",
    "plt.grid()\n",
    "plt.show()\n",
    "\n",
    "print('Step info:')\n",
    "stepinfo(G)"
   ]
  },
  {
   "cell_type": "code",
   "execution_count": 6,
   "metadata": {},
   "outputs": [
    {
     "name": "stdout",
     "output_type": "stream",
     "text": [
      "_____Eigenvalue______ Damping___ Frequency_\n",
      "    -304.2                     1      304.2\n",
      "    -110.5                     1      110.5\n"
     ]
    }
   ],
   "source": [
    "# Damping and natural frequency\n",
    "ct.damp(G);"
   ]
  },
  {
   "cell_type": "code",
   "execution_count": 7,
   "metadata": {},
   "outputs": [
    {
     "name": "stdout",
     "output_type": "stream",
     "text": [
      "Poles:  [-304.22116444 -110.47883556]\n"
     ]
    },
    {
     "data": {
      "image/png": "[encoded data removed]",
      "text/plain": [
       "<Figure size 432x288 with 1 Axes>"
      ]
     },
     "metadata": {
      "needs_background": "light"
     },
     "output_type": "display_data"
    }
   ],
   "source": [
    "# Root locust\n",
    "print('Poles: ',ct.pole(G))\n",
    "ct.pzmap(G);"
   ]
  },
  {
   "cell_type": "code",
   "execution_count": 8,
   "metadata": {},
   "outputs": [],
   "source": [
    "# Data\n",
    "ts = 0.03\n",
    "Mp = 25\n",
    "\n",
    "b0 = num\n",
    "a1 = den[1]\n",
    "a0 = den[2]"
   ]
  },
  {
   "cell_type": "code",
   "execution_count": 9,
   "metadata": {},
   "outputs": [
    {
     "name": "stdout",
     "output_type": "stream",
     "text": [
      "z=  0.40371275194342066\n",
      "Wn=  330.2678270415884\n"
     ]
    }
   ],
   "source": [
    "# Requirements\n",
    "z = np.sqrt(np.square(np.log(Mp/100))/(np.pi**2 + np.square(np.log(Mp/100)))) \n",
    "Wn = 4/(z*ts)\n",
    "\n",
    "print('z= ', z)\n",
    "print('Wn= ', Wn)"
   ]
  },
  {
   "cell_type": "code",
   "execution_count": 10,
   "metadata": {},
   "outputs": [
    {
     "name": "stdout",
     "output_type": "stream",
     "text": [
      "delta = s² + 266.6666666666667s + 109076.8376\n",
      "s = -133.33333333333334 + j302.2\n"
     ]
    }
   ],
   "source": [
    "# Desired characteristic equation and poles\n",
    "print('delta = s² + {a}s + {b:1.4f}'.format(a=2*z*Wn,b=Wn**2))\n",
    "print('s = {a} + j{b:1.4}'.format(a=-z*Wn, b=Wn*np.sqrt(1-z**2)))"
   ]
  },
  {
   "cell_type": "code",
   "execution_count": 13,
   "metadata": {},
   "outputs": [
    {
     "name": "stdout",
     "output_type": "stream",
     "text": [
      "Kp: [3.84808815], Ti: [0.00711849]\n",
      "Feedback PI- controlled system:\n",
      "\n",
      "0.02739 s + 3.848\n",
      "-----------------\n",
      "   0.007118 s\n",
      "\n"
     ]
    }
   ],
   "source": [
    "# PI controller\n",
    "B = a1/(z*Wn) - 2\n",
    "Kp = ((2*B*z**2 + 1)*Wn**2 - a0)/b0\n",
    "Ti = (Kp*b0)/(B*z*Wn**3)\n",
    "print('Kp: {a}, Ti: {b}'.format(a = Kp, b = Ti))\n",
    "\n",
    "Kp = float(Kp)\n",
    "Ti = float(Ti)\n",
    "\n",
    "Gc = ct.tf([Kp*Ti, Kp],[Ti, 0])\n",
    "print('Feedback PI- controlled system:')\n",
    "print(Gc)"
   ]
  },
  {
   "cell_type": "code",
   "execution_count": null,
   "metadata": {},
   "outputs": [],
   "source": [
    "# PI response\n",
    "sys = ct.feedback(Gc*G)\n",
    "t, out = ct.step_response(sys)\n",
    "print('Step response:')\n",
    "plt.plot(t,out)\n",
    "plt.grid()\n",
    "plt.show()\n",
    "\n",
    "print('Step info:')\n",
    "stepinfo(sys)"
   ]
  },
  {
   "cell_type": "code",
   "execution_count": null,
   "metadata": {},
   "outputs": [],
   "source": [
    "ct.pzmap(sys);\n",
    "print('Poles: ',ct.pole(sys))"
   ]
  }
 ],
 "metadata": {
  "kernelspec": {
   "display_name": "Python 3 (ipykernel)",
   "language": "python",
   "name": "python3"
  },
  "language_info": {
   "codemirror_mode": {
    "name": "ipython",
    "version": 3
   },
   "file_extension": ".py",
   "mimetype": "text/x-python",
   "name": "python",
   "nbconvert_exporter": "python",
   "pygments_lexer": "ipython3",
   "version": "3.9.7"
  }
 },
 "nbformat": 4,
 "nbformat_minor": 4
}
